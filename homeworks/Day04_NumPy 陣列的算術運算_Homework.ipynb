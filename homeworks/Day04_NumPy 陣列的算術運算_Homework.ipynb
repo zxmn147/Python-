{
 "cells": [
  {
   "cell_type": "markdown",
   "metadata": {
    "colab_type": "text",
    "id": "P6xk2_jLsvFF"
   },
   "source": [
    "# [作業目標]\n",
    "\n",
    "1. [簡答題] 請問下列程式碼，運算結果分別為何？\n",
    "\n",
    "```\n",
    "a = np.array( [20,30,40,50] )\n",
    "b = np.array( [1,2,3,4] ) \n",
    "c = 1\n",
    "d = np.array( [1] )\n",
    "e = np.array( [1,2] ) \n",
    "```\n",
    "\n",
    "2. 如何在不用迴圈的情況下計算 (A+B)*(-A/2) ？那用迴圈怎麼做？\n",
    "\n",
    "3. 請問如何計算「1x6 的單位矩陣」和「6x1 的單位矩陣」的內積和外積？"
   ]
  },
  {
   "cell_type": "markdown",
   "metadata": {
    "colab_type": "text",
    "id": "uXGll28asvFS"
   },
   "source": [
    "# 作業 "
   ]
  },
  {
   "cell_type": "markdown",
   "metadata": {},
   "source": [
    "### 1. [簡答題] 請問下列程式碼，運算結果分別為何？\n",
    "\n",
    "```\n",
    "a = np.array( [20,30,40,50] )\n",
    "b = np.array( [1,2,3,4] ) \n",
    "c = 1\n",
    "d = np.array( [1] )\n",
    "e = np.array( [1,2] ) \n",
    "```\n"
   ]
  },
  {
   "cell_type": "markdown",
   "metadata": {},
   "source": [
    "- print(a + a) [40, 60, 80, 100]\n",
    "- print(a + b) [21, 32, 43, 54]\n",
    "- print(a + c) [21, 31, 41, 51]\n",
    "- print(a + d) [21, 31, 41, 51]\n",
    "- print(a + e) 維度不同不能相加"
   ]
  },
  {
   "cell_type": "code",
   "execution_count": 1,
   "metadata": {
    "colab": {},
    "colab_type": "code",
    "id": "5QrYoyNWsvFS"
   },
   "outputs": [
    {
     "name": "stdout",
     "output_type": "stream",
     "text": [
      "[ 40  60  80 100]\n",
      "[21 32 43 54]\n",
      "[21 31 41 51]\n",
      "[21 31 41 51]\n"
     ]
    },
    {
     "ename": "ValueError",
     "evalue": "operands could not be broadcast together with shapes (4,) (2,) ",
     "output_type": "error",
     "traceback": [
      "\u001b[1;31m---------------------------------------------------------------------------\u001b[0m",
      "\u001b[1;31mValueError\u001b[0m                                Traceback (most recent call last)",
      "Cell \u001b[1;32mIn[1], line 11\u001b[0m\n\u001b[0;32m      9\u001b[0m \u001b[38;5;28mprint\u001b[39m(a \u001b[38;5;241m+\u001b[39m c)\n\u001b[0;32m     10\u001b[0m \u001b[38;5;28mprint\u001b[39m(a \u001b[38;5;241m+\u001b[39m d)\n\u001b[1;32m---> 11\u001b[0m \u001b[38;5;28mprint\u001b[39m(\u001b[43ma\u001b[49m\u001b[43m \u001b[49m\u001b[38;5;241;43m+\u001b[39;49m\u001b[43m \u001b[49m\u001b[43me\u001b[49m)\n",
      "\u001b[1;31mValueError\u001b[0m: operands could not be broadcast together with shapes (4,) (2,) "
     ]
    }
   ],
   "source": [
    "import numpy as np\n",
    "a = np.array( [20,30,40,50] )\n",
    "b = np.array( [1,2,3,4] ) \n",
    "c = 1\n",
    "d = np.array( [1] )\n",
    "e = np.array( [1,2] ) \n",
    "print(a + a)\n",
    "print(a + b)\n",
    "print(a + c)\n",
    "print(a + d)\n",
    "print(a + e)"
   ]
  },
  {
   "cell_type": "markdown",
   "metadata": {},
   "source": [
    "### 2. 如何在不用迴圈的情況下計算 (A+B)*(-A/2) ？那用迴圈怎麼做？\n"
   ]
  },
  {
   "cell_type": "code",
   "execution_count": 10,
   "metadata": {},
   "outputs": [],
   "source": [
    "# 記得先 Import 正確的套件\n",
    "\n",
    "import numpy as np\n"
   ]
  },
  {
   "cell_type": "code",
   "execution_count": 11,
   "metadata": {},
   "outputs": [
    {
     "data": {
      "text/plain": [
       "array([-1.5, -1.5, -1.5])"
      ]
     },
     "execution_count": 11,
     "metadata": {},
     "output_type": "execute_result"
    }
   ],
   "source": [
    "A = np.ones(3)*1\n",
    "B = np.ones(3)*2\n",
    "(A+B)*(-A/2) "
   ]
  },
  {
   "cell_type": "code",
   "execution_count": 13,
   "metadata": {},
   "outputs": [
    {
     "data": {
      "text/plain": [
       "array([-1.5, -1.5, -1.5])"
      ]
     },
     "execution_count": 13,
     "metadata": {},
     "output_type": "execute_result"
    }
   ],
   "source": [
    "# 用迴圈\n",
    "answers = np.zeros(3)\n",
    "answers1 = np.zeros(3)\n",
    "for i in range(A.shape[0]):\n",
    "    answers[i] = A[i] + B[i]\n",
    "    answers1[i] = -A[i] / 2\n",
    "answers*answers1"
   ]
  },
  {
   "cell_type": "markdown",
   "metadata": {},
   "source": [
    "### 3. 請問如何計算「1x6 的單位矩陣」和「6x1 的單位矩陣」的內積和外積？\n"
   ]
  },
  {
   "cell_type": "code",
   "execution_count": 14,
   "metadata": {
    "colab": {},
    "colab_type": "code",
    "id": "e1gVI0tvsvFY"
   },
   "outputs": [
    {
     "name": "stdout",
     "output_type": "stream",
     "text": [
      "內積: [[1. 1. 1. 1. 1. 1.]\n",
      " [1. 1. 1. 1. 1. 1.]\n",
      " [1. 1. 1. 1. 1. 1.]\n",
      " [1. 1. 1. 1. 1. 1.]\n",
      " [1. 1. 1. 1. 1. 1.]\n",
      " [1. 1. 1. 1. 1. 1.]]\n",
      "外積: [[6.]]\n"
     ]
    }
   ],
   "source": [
    "A = np.ones((1,6))\n",
    "B = np.ones((6,1))\n",
    "print(f'內積: {A*B}')\n",
    "print(f'外積: {A@B}')"
   ]
  },
  {
   "cell_type": "code",
   "execution_count": null,
   "metadata": {},
   "outputs": [],
   "source": []
  },
  {
   "cell_type": "code",
   "execution_count": null,
   "metadata": {},
   "outputs": [],
   "source": []
  },
  {
   "cell_type": "code",
   "execution_count": null,
   "metadata": {},
   "outputs": [],
   "source": [
    "# [作業目標]\n",
    "\n",
    "1. [簡答題] 請問下列程式碼，運算結果分別為何？\n",
    "\n",
    "```\n",
    "a = np.array( [20,30,40,50] )\n",
    "b = np.array( [1,2,3,4] ) \n",
    "c = 1\n",
    "d = np.array( [1] )\n",
    "e = np.array( [1,2] ) \n",
    "```\n",
    "\n",
    "2. 如何在不用迴圈的情況下計算 (A+B)*(-A/2) ？那用迴圈怎麼做？\n",
    "\n",
    "3. 請問如何計算「1x6 的單位矩陣」和「6x1 的單位矩陣」的內積和外積？\n",
    "\n",
    "# 作業 \n",
    "\n",
    "### 1. [簡答題] 請問下列程式碼，運算結果分別為何？\n",
    "\n",
    "```\n",
    "a = np.array( [20,30,40,50] )\n",
    "b = np.array( [1,2,3,4] ) \n",
    "c = 1\n",
    "d = np.array( [1] )\n",
    "e = np.array( [1,2] ) \n",
    "```\n",
    "\n",
    "\n",
    "\n",
    "\n",
    "### 2. 如何在不用迴圈的情況下計算 (A+B)*(-A/2) ？那用迴圈怎麼做？\n",
    "\n",
    "\n",
    "A = np.ones(3)*1\n",
    "B = np.ones(3)*2\n",
    "\n",
    "print((A + B) * (-A / 2))\n",
    "\n",
    "### 3. 請問如何計算「1x6 的單位矩陣」和「6x1 的單位矩陣」的內積和外積？\n",
    "\n",
    "\n",
    "# 記得先 Import 正確的套件\n",
    "\n",
    "import numpy as np\n",
    "\n",
    "\n",
    "# 參考解答\n",
    "\n",
    "A = np.ones((1,6))\n",
    "B = np.ones((6,1))\n",
    "\n",
    "print(A * B)\n",
    "print(A @ B)\n",
    "\n",
    "\n",
    "\n"
   ]
  }
 ],
 "metadata": {
  "colab": {
   "name": "Day_023_HW.ipynb",
   "provenance": []
  },
  "kernelspec": {
   "display_name": "Python 3",
   "language": "python",
   "name": "python3"
  },
  "language_info": {
   "codemirror_mode": {
    "name": "ipython",
    "version": 3
   },
   "file_extension": ".py",
   "mimetype": "text/x-python",
   "name": "python",
   "nbconvert_exporter": "python",
   "pygments_lexer": "ipython3",
   "version": "3.8.0"
  }
 },
 "nbformat": 4,
 "nbformat_minor": 1
}
